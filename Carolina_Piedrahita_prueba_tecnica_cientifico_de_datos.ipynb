{
  "nbformat": 4,
  "nbformat_minor": 0,
  "metadata": {
    "colab": {
      "provenance": [],
      "authorship_tag": "ABX9TyNSzmedP+RSV7DmSeBy9Sth",
      "include_colab_link": true
    },
    "kernelspec": {
      "name": "python3",
      "display_name": "Python 3"
    },
    "language_info": {
      "name": "python"
    }
  },
  "cells": [
    {
      "cell_type": "markdown",
      "metadata": {
        "id": "view-in-github",
        "colab_type": "text"
      },
      "source": [
        "<a href=\"https://colab.research.google.com/github/CarolinaPiedrahita/Nutresa/blob/main/Carolina_Piedrahita_prueba_tecnica_cientifico_de_datos.ipynb\" target=\"_parent\"><img src=\"https://colab.research.google.com/assets/colab-badge.svg\" alt=\"Open In Colab\"/></a>"
      ]
    },
    {
      "cell_type": "markdown",
      "source": [
        "# **Prueba**"
      ],
      "metadata": {
        "id": "Zu2oN459AOE5"
      }
    },
    {
      "cell_type": "markdown",
      "source": [
        "Prueba técnica: (tiempo estimado 2 horas)  \n",
        "1. Se realizó una consolidación de la base de octubre y la base de septiembre, creando variables en\n",
        "el tiempo t,-1,t-2,...t-5, de la variables de pago, retraso y deuda. Lo anterior dada la\n",
        "recomendación del equipo de cartera.  \n",
        "2. Para evaluar los modelos propuestos se evaluará el RMSE en la base test y la base train para dos\n",
        "modelos evaluados. Así mismo se tendrá en cuenta el recall y el accuracy, dada la necesidad del\n",
        "negocio por identificar a los clientes que efectivamente van a caer en mora. Por otro lado se\n",
        "evaluará la distribución de la población en deciles, con el fin de evaluar que efectivamente en un\n",
        "grupo objetivo que requiera acciones de negocio, se abarque a la mayor población con alta\n",
        "propensión de caer en mora. Proponga una métrica de negocio adicional.  \n",
        " "
      ],
      "metadata": {
        "id": "5PUXMou2AToY"
      }
    },
    {
      "cell_type": "markdown",
      "source": [
        "# **Como se va abordar el problema propuesto.**"
      ],
      "metadata": {
        "id": "uTHz4ygf-QWx"
      }
    },
    {
      "cell_type": "markdown",
      "source": [
        "**Preparación de los datos:**\n",
        "\n",
        "Carga los datos transaccionales, etiquetas e información de los clientes en un DataFrame de pandas.\n",
        "Elimina las columnas irrelevantes o duplicadas y maneja los valores faltantes si es necesario.\n",
        "Divide el conjunto de datos en características (variables independientes) y la variable objetivo (morosidad).\n",
        "\n",
        "**División del conjunto de datos:**\n",
        "\n",
        "Separa el conjunto de datos en conjuntos de entrenamiento y prueba. \n",
        "Balancear los datos.\n",
        "\n",
        "**Creación y entrenamiento del modelo:**\n",
        "\n",
        "Importa el modelo que deseas utilizar, como regresión logística o árbol de decisión, de la biblioteca scikit-learn.\n",
        "Crear una instancia del modelo y ajústalo utilizando el conjunto de entrenamiento.\n",
        "\n",
        "**Evaluación del modelo:**\n",
        "\n",
        "Utilizar el modelo entrenado para hacer predicciones sobre el conjunto de prueba.\n",
        "Evalúa el rendimiento del modelo utilizando métricas como el recall, la precisión y el accuracy. Además, puedes calcular el RMSE si el modelo utilizado es de regresión.\n",
        "\n",
        "**Distribucción de la poblacion en deciles**\n",
        "\n",
        "con el fin de evaluar que efectivamente en un\n",
        "grupo objetivo que requiera acciones de negocio, se abarque a la mayor población con alta\n",
        "propensión de caer en mora\n",
        "\n",
        "**Metrica de negocio adicional**\n",
        "\n",
        "Se va proponer una metrica de negocio adicional"
      ],
      "metadata": {
        "id": "U-fIbnRI-Vxg"
      }
    },
    {
      "cell_type": "markdown",
      "source": [
        "# **Desarrollo de la solución.**"
      ],
      "metadata": {
        "id": "v21uBniZ-bXf"
      }
    },
    {
      "cell_type": "code",
      "execution_count": 28,
      "metadata": {
        "colab": {
          "base_uri": "https://localhost:8080/"
        },
        "id": "n-FdF9k4W4Vq",
        "outputId": "1d9c9700-8450-4297-acde-668f065b4ff7"
      },
      "outputs": [
        {
          "output_type": "stream",
          "name": "stdout",
          "text": [
            "Métricas para el modelo de Regresión Logística:\n",
            "RMSE - Train: 0.6738222750349927, Test: 0.6721648276691927\n",
            "Recall - Train: 0.6931728492501973, Test: 0.6985871271585558\n",
            "Accuracy - Train: 0.5459635416666667, Test: 0.5481944444444444\n",
            "\n",
            "Métricas para el modelo de Árbol de Decisiones:\n",
            "RMSE - Train: 0.0, Test: 0.0\n",
            "Recall - Train: 1.0, Test: 1.0\n",
            "Accuracy - Train: 1.0, Test: 1.0\n"
          ]
        }
      ],
      "source": [
        "import pandas as pd\n",
        "import numpy as np\n",
        "import matplotlib.pyplot as plt\n",
        "from sklearn.metrics import mean_squared_error, recall_score, accuracy_score\n",
        "from sklearn.model_selection import train_test_split\n",
        "from sklearn.linear_model import LogisticRegression\n",
        "from sklearn.tree import DecisionTreeClassifier\n",
        "\n",
        "\n",
        "# Ajustar la configuración de visualización\n",
        "pd.set_option('display.width', 1000)\n",
        "\n",
        "# Cargar los datos de los tres buckets: clientela, etiquetas y transaccional\n",
        "url1 = \"https://raw.githubusercontent.com/CarolinaPiedrahita/Nutresa/main/informacion_clientela.csv\"\n",
        "url2 = \"https://raw.githubusercontent.com/CarolinaPiedrahita/Nutresa/main/etiquetada.csv\"\n",
        "url3 = \"https://raw.githubusercontent.com/CarolinaPiedrahita/Nutresa/main/historial_transaccional.csv\"\n",
        "clientela_data = pd.read_csv(url1, delimiter=';')\n",
        "etiquetas_data = pd.read_csv(url2, delimiter=';')\n",
        "transaccional_data = pd.read_csv(url3, delimiter=';')\n",
        "\n",
        "\n",
        "\n",
        "# Combinar los datos de los tres buckets por ID del cliente\n",
        "combined_data = pd.merge(clientela_data, etiquetas_data, on='CLIENT_ID', how='inner')\n",
        "combined_data = pd.merge(combined_data, transaccional_data, on='CLIENT_ID', how='inner')\n",
        "\n",
        "# Definir las variables relevantes para la predicción\n",
        "#RETRASO_PAGO_ESTADO  DEUDA_MES  PAGO_MES\n",
        "relevant_vars = ['PAGO_MES', 'RETRASO_PAGO_ESTADO','DEUDA_MES','default_payment_next_month','Cupo_TC','AGE' ]  # Variables del bucket transaccional\n",
        "\n",
        "# 1. Consolidación de variables en el tiempo\n",
        "def consolidate_variables(data, time_periods):\n",
        "    for t in range(1, time_periods + 1):\n",
        "        for variable in relevant_vars:\n",
        "            new_variable = f'{variable}_t-{t}'\n",
        "            data[new_variable] = data.groupby('CLIENT_ID')[variable].shift(t)\n",
        "    return data\n",
        "\n",
        "# Consolidar variables en el tiempo para los últimos 5 períodos\n",
        "consolidated_data = consolidate_variables(combined_data, 5)\n",
        "\n",
        "# Dividir los datos en conjuntos de entrenamiento y prueba\n",
        "train_data, test_data = train_test_split(consolidated_data, test_size=0.2, random_state=42)\n",
        "\n",
        "# Equilibrar la proporción de clases\n",
        "minority_class = train_data[train_data['default_payment_next_month'] == 1]\n",
        "majority_class = train_data[train_data['default_payment_next_month'] == 0].sample(n=len(minority_class))\n",
        "balanced_data = pd.concat([minority_class, majority_class])\n",
        "\n",
        "# Entrenar y evaluar el modelo de Regresión Logística\n",
        "lr_model = LogisticRegression()\n",
        "lr_model.fit(balanced_data[relevant_vars], balanced_data['default_payment_next_month'])\n",
        "lr_pred_train = lr_model.predict(train_data[relevant_vars])\n",
        "lr_pred_test = lr_model.predict(test_data[relevant_vars])\n",
        "\n",
        "# Calcular las métricas para el modelo de Regresión Logística\n",
        "lr_rmse_train = np.sqrt(mean_squared_error(train_data['default_payment_next_month'], lr_pred_train))\n",
        "lr_rmse_test = np.sqrt(mean_squared_error(test_data['default_payment_next_month'], lr_pred_test))\n",
        "lr_recall_train = recall_score(train_data['default_payment_next_month'], lr_pred_train)\n",
        "lr_recall_test = recall_score(test_data['default_payment_next_month'], lr_pred_test)\n",
        "lr_accuracy_train = accuracy_score(train_data['default_payment_next_month'], lr_pred_train)\n",
        "lr_accuracy_test = accuracy_score(test_data['default_payment_next_month'], lr_pred_test)\n",
        "\n",
        "# Entrenar y evaluar el modelo de Árbol de Decisiones\n",
        "dt_model = DecisionTreeClassifier()\n",
        "dt_model.fit(balanced_data[relevant_vars], balanced_data['default_payment_next_month'])\n",
        "dt_pred_train = dt_model.predict(train_data[relevant_vars])\n",
        "dt_pred_test = dt_model.predict(test_data[relevant_vars])\n",
        "\n",
        "# Calcular las métricas para el modelo de Árbol de Decisiones\n",
        "dt_rmse_train = np.sqrt(mean_squared_error(train_data['default_payment_next_month'], dt_pred_train))\n",
        "dt_rmse_test = np.sqrt(mean_squared_error(test_data['default_payment_next_month'], dt_pred_test))\n",
        "dt_recall_train = recall_score(train_data['default_payment_next_month'], dt_pred_train)\n",
        "dt_recall_test = recall_score(test_data['default_payment_next_month'], dt_pred_test)\n",
        "dt_accuracy_train = accuracy_score(train_data['default_payment_next_month'], dt_pred_train)\n",
        "dt_accuracy_test = accuracy_score(test_data['default_payment_next_month'], dt_pred_test)\n",
        "\n",
        "# Imprimir los resultados\n",
        "print(\"Métricas para el modelo de Regresión Logística:\")\n",
        "print(f\"RMSE - Train: {lr_rmse_train}, Test: {lr_rmse_test}\")\n",
        "print(f\"Recall - Train: {lr_recall_train}, Test: {lr_recall_test}\")\n",
        "print(f\"Accuracy - Train: {lr_accuracy_train}, Test: {lr_accuracy_test}\")\n",
        "\n",
        "print(\"\\nMétricas para el modelo de Árbol de Decisiones:\")\n",
        "print(f\"RMSE - Train: {dt_rmse_train}, Test: {dt_rmse_test}\")\n",
        "print(f\"Recall - Train: {dt_recall_train}, Test: {dt_recall_test}\")\n",
        "print(f\"Accuracy - Train: {dt_accuracy_train}, Test: {dt_accuracy_test}\")"
      ]
    },
    {
      "cell_type": "markdown",
      "source": [
        "**Métricas para el modelo de Regresión Logística:**\n",
        "\n",
        "**RMSE (Root Mean Squared Error):** Los valores de RMSE para el conjunto de entrenamiento (0.673) y el conjunto de prueba (0.672) son moderados, \n",
        "lo que indica un buen ajuste del modelo a los datos. Sin embargo, en el contexto de identificar a los clientes morosos, el RMSE no es la métrica más relevante y no proporciona una evaluación directa de la capacidad del modelo para predecir la morosidad.\n",
        "\n",
        "**Recall:** Tanto en el conjunto de entrenamiento (0.693) como en el conjunto de prueba (0.698), el recall es moderado. Esto significa que el modelo tiene cierta capacidad para identificar a los clientes en riesgo de caer en mora, pero aún existe margen de mejora. Es importante destacar que el recall se enfoca en minimizar los falsos negativos, es decir, identificar correctamente a los clientes morosos para evitar pérdidas en el negocio.\n",
        "\n",
        "**Accuracy:** Tanto en el conjunto de entrenamiento (0.546) como en el conjunto de prueba (0.548), la precisión del modelo de Regresión Logística es moderada. Esto indica que el modelo tiene una buena capacidad para predecir correctamente las clases en general, pero tiene oportunidades de mejora. Sin embargo, al identificar a los clientes morosos, la precisión por sí sola puede no ser suficiente, ya que puede haber un desequilibrio en las clases y un gran número de clientes que no caen en mora.\n",
        "\n",
        "**Métricas para el modelo de Árbol de Decisiones:**\n",
        "\n",
        "**RMSE:** En el modelo de Árbol de Decisiones, tanto en el conjunto de entrenamiento como en el conjunto de prueba, el RMSE es igual a 0. Esto puede indicar que el modelo se ajusta perfectamente a los datos y no hay errores de predicción. Sin embargo, este resultado debe considerarse con precaución, ya que un RMSE de 0 puede ser una indicación de sobreajuste del modelo.\n",
        "\n",
        "**Recall:** Tanto en el conjunto de entrenamiento como en el conjunto de prueba, el recall es igual a 1. Esto significa que el modelo de Árbol de Decisiones es capaz de identificar correctamente a todos los clientes morosos en los conjuntos de datos. Sin embargo, nuevamente, este resultado debe considerarse con precaución, ya que puede ser un indicio de sobreajuste del modelo y falta de generalización a datos nuevos.\n",
        "\n",
        "**Accuracy:** Tanto en el conjunto de entrenamiento como en el conjunto de prueba, la precisión del modelo de Árbol de Decisiones es igual a 1. Esto indica que el modelo clasifica correctamente todos los casos en ambos conjuntos de datos. Sin embargo, al igual que con el recall, este resultado puede ser una indicación de sobreajuste y falta de generalización a nuevos datos.\n",
        "\n",
        "\n",
        "**En resumen**, el modelo de Regresión Logística muestra resultados moderados en términos de recall y accuracy, lo que sugiere la necesidad de mejorar la capacidad de identificación de clientes morosos. Por otro lado, **el modelo de Árbol de Decisiones muestra resultados perfectos en recall y accuracy, pero esto podría ser una señal de sobreajuste y falta de generalización a nuevos datos.**\n",
        "\n",
        "\n",
        "\n"
      ],
      "metadata": {
        "id": "YyunvGlTiCCK"
      }
    },
    {
      "cell_type": "markdown",
      "source": [
        "\n",
        "**Para mejorar la capacidad de los modelos de predecir morosos en función de las diferentes métricas, se pueden implementar las siguientes acciones:**\n",
        "\n",
        "**Para mejorar el RMSE (Root Mean Squared Error):**\n",
        "\n",
        "1. Considerar la inclusión de variables adicionales que puedan aportar información relevante sobre el comportamiento de los clientes y su propensión a caer en mora.\n",
        "2. Evaluar diferentes técnicas de preprocesamiento de datos, como la normalización de variables o la eliminación de valores atípicos, para mejorar la calidad de los datos de entrada al modelo.\n",
        "3. Explorar diferentes algoritmos de modelado que puedan ajustarse mejor a los datos y reducir el error de predicción.\n",
        "\n",
        "**Para mejorar el Recall:**\n",
        "\n",
        "1. Analizar las características de los clientes que se están clasificando incorrectamente como no morosos (falsos negativos) y buscar patrones o variables que puedan ayudar a identificarlos con mayor precisión.\n",
        "2. Aumentar el tamaño de la muestra de datos o recopilar más información sobre los clientes para capturar una mayor variedad de casos de morosidad y entrenar al modelo con una mayor diversidad de ejemplos.\n",
        "3. Probar diferentes técnicas de ajuste de los umbrales de clasificación para encontrar un equilibrio entre la identificación de la mayor cantidad de morosos posible y la minimización de los falsos positivos.\n",
        "\n",
        "**Para mejorar el Accuracy:**\n",
        "\n",
        "1. Realizar una selección más exhaustiva de las variables de entrada al modelo, eliminando aquellas que no aportan información significativa o que pueden generar ruido en las predicciones.\n",
        "2. Experimentar con diferentes técnicas de modelado, como ensamblado de modelos o técnicas de aprendizaje automático más avanzadas, que puedan capturar relaciones más complejas en los datos y mejorar la precisión general del modelo.\n",
        "Realizar una validación cruzada más rigurosa para evaluar el rendimiento del modelo en diferentes conjuntos de datos y verificar su capacidad de generalización.\n"
      ],
      "metadata": {
        "id": "8R9QpozL9nUA"
      }
    },
    {
      "cell_type": "markdown",
      "source": [
        "**Distribuccion por deciles**"
      ],
      "metadata": {
        "id": "8HfrUnfE9a0B"
      }
    },
    {
      "cell_type": "code",
      "source": [
        "# Calcular la probabilidad de morosidad para cada cliente en el conjunto de prueba\n",
        "lr_probabilities = lr_model.predict_proba(test_data[relevant_vars])[:, 1]  # Probabilidad de la clase positiva (morosidad)\n",
        "dt_probabilities = dt_model.predict_proba(test_data[relevant_vars])[:, 1]\n",
        "\n",
        "# Agregar las probabilidades al conjunto de prueba\n",
        "test_data['LR_Probability'] = lr_probabilities\n",
        "test_data['DT_Probability'] = dt_probabilities\n",
        "\n",
        "# Calcular los deciles de acuerdo a la probabilidad de morosidad\n",
        "test_data['LR_Decile'] = pd.qcut(test_data['LR_Probability'], q=10, labels=False)\n",
        "test_data['DT_Decile'] = pd.qcut(test_data['DT_Probability'], q=10, labels=False, duplicates='drop')\n",
        "\n",
        "# Calcular la distribución de la población en deciles\n",
        "lr_decile_distribution = test_data.groupby('LR_Decile').size().reset_index(name='Count')\n",
        "dt_decile_distribution = test_data.groupby('DT_Decile').size().reset_index(name='Count')\n",
        "\n",
        "# Imprimir los resultados de la distribución de la población en deciles\n",
        "print(\"Distribución de la población en deciles - Modelo de Regresión Logística:\")\n",
        "print(lr_decile_distribution)\n",
        "print(\"\\nDistribución de la población en deciles - Modelo de Árbol de Decisiones:\")\n",
        "print(dt_decile_distribution)"
      ],
      "metadata": {
        "colab": {
          "base_uri": "https://localhost:8080/"
        },
        "id": "Qk_l-CjtmgGK",
        "outputId": "f415148a-a149-4194-daa4-a5dadd0ed7a2"
      },
      "execution_count": null,
      "outputs": [
        {
          "output_type": "stream",
          "name": "stdout",
          "text": [
            "Distribución de la población en deciles - Modelo de Regresión Logística:\n",
            "   LR_Decile  Count\n",
            "0          0   3440\n",
            "1          1   2708\n",
            "2          2   2492\n",
            "3          3   2880\n",
            "4          4   2880\n",
            "5          5   2880\n",
            "6          6   2880\n",
            "7          7   2880\n",
            "8          8   2880\n",
            "9          9   2880\n",
            "\n",
            "Distribución de la población en deciles - Modelo de Árbol de Decisiones:\n",
            "   DT_Decile  Count\n",
            "0          0  28800\n"
          ]
        }
      ]
    },
    {
      "cell_type": "markdown",
      "source": [
        "**Regresión Logística ha logrado una distribución bastante equitativa.** Esto significa que ha considerado a un buen número de clientes en cada grupo de riesgo, abarcando así a una gran parte de la población. En el decil más bajo, que representa el grupo con menor riesgo, se encuentran 3440 clientes, y a medida que subes de decil, la cantidad de clientes se mantiene constante alrededor de 2880. Esto indica que el modelo de Regresión Logística ha identificado diferentes niveles de propensión a la morosidad entre los clientes.\n",
        "\n",
        "\n",
        "**Decil 9:** Este grupo representa a los clientes con la mayor propensión a caer en mora. Se considera que tienen un alto riesgo de incumplir con sus pagos.\n",
        "\n",
        "Decil 8: En este decil se encuentran los clientes con una alta propensión de caer en mora, aunque ligeramente menor que el decil 9.\n",
        "\n",
        "Decil 7: Este grupo también presenta un riesgo considerable de morosidad, pero en menor medida que los deciles anteriores.\n",
        "\n",
        "Decil 6: En el sexto decil se encuentran clientes con una propensión moderada a caer en mora, pero aún mayor que en los deciles inferiores.\n",
        "\n",
        "Decil 5: Aquí se encuentran los clientes con un riesgo de morosidad intermedio. Aunque no presentan una propensión tan alta como en los deciles superiores, se considera que tienen cierto nivel de riesgo.\n",
        "\n",
        "Decil 4: En este grupo se ubican los clientes con un riesgo de morosidad moderado-bajo. Aunque existe una probabilidad menor de que caigan en mora, aún se debe tener cierta precaución.\n",
        "\n",
        "Decil 3: Los clientes en este decil tienen una propensión ligeramente más baja a caer en mora en comparación con los deciles anteriores.\n",
        "\n",
        "Decil 2: Aquí se encuentran los clientes con una propensión bastante baja a caer en mora. El riesgo es significativamente menor que en los deciles superiores.\n",
        "\n",
        "**Decil 1:** Este decil agrupa a los clientes con la menor propensión a caer en mora. Se considera que tienen un riesgo muy bajo de incumplir con sus pagos.\n",
        "\n",
        "Por otro lado, el **Árbol de Decisiones**, ha colocado a todos los clientes en un único grupo, es decir, todos han sido agrupados en el mismo decil. Esto significa que el modelo considera que todos los clientes tienen la misma probabilidad de caer en mora, sin importar sus características individuales.\n",
        "\n",
        "**Teniendo en cuenta que el objetivo es identificar a los clientes con alta propensión de caer en mora, el modelo de Regresión Logística sería más útil.** Este modelo brinda una visión más completa al abarcar a una mayor cantidad de clientes en diferentes grupos de riesgo. Así, se podrá  tomar acciones de negocio más dirigidas y efectivas para atender a los clientes que realmente presentan una mayor propensión a la morosidad."
      ],
      "metadata": {
        "id": "n55Owrkhs31i"
      }
    },
    {
      "cell_type": "markdown",
      "source": [
        "**Relación entre Cupo de la TDC y Morosidad**"
      ],
      "metadata": {
        "id": "Wn86XgWAxPoY"
      }
    },
    {
      "cell_type": "code",
      "source": [
        "plt.scatter(combined_data['Cupo_TC'], combined_data['RETRASO_PAGO_ESTADO'])\n",
        "plt.xlabel('Cupo de la TDC')\n",
        "plt.ylabel('Retraso estado de pago')\n",
        "plt.title('Relación entre Cupo de la TDC y Morosidad')\n",
        "plt.show()"
      ],
      "metadata": {
        "colab": {
          "base_uri": "https://localhost:8080/",
          "height": 472
        },
        "id": "zZnQfy4pwl5J",
        "outputId": "78469f10-5d6f-4098-9396-84283eb1c045"
      },
      "execution_count": 17,
      "outputs": [
        {
          "output_type": "display_data",
          "data": {
            "text/plain": [
              "<Figure size 640x480 with 1 Axes>"
            ],
            "image/png": "[encoded data removed]"
          },
          "metadata": {}
        }
      ]
    },
    {
      "cell_type": "code",
      "source": [
        "correlation = combined_data['Cupo_TC'].corr(combined_data['RETRASO_PAGO_ESTADO'])\n",
        "print(\"Coeficiente de correlación: \", correlation)"
      ],
      "metadata": {
        "colab": {
          "base_uri": "https://localhost:8080/"
        },
        "id": "VDp-7BhcxbNJ",
        "outputId": "febfb43d-9d7d-43d4-f24f-b012c47d98e2"
      },
      "execution_count": 19,
      "outputs": [
        {
          "output_type": "stream",
          "name": "stdout",
          "text": [
            "Coeficiente de correlación:  -0.27202883002581574\n"
          ]
        }
      ]
    },
    {
      "cell_type": "code",
      "source": [
        "correlation = combined_data['AGE'].corr(combined_data['DEUDA_MES'])\n",
        "print(\"Coeficiente de correlación: \", correlation)"
      ],
      "metadata": {
        "colab": {
          "base_uri": "https://localhost:8080/"
        },
        "id": "jReE9M1Dyrm5",
        "outputId": "99a19160-de10-40a4-e373-d36836712dc4"
      },
      "execution_count": 23,
      "outputs": [
        {
          "output_type": "stream",
          "name": "stdout",
          "text": [
            "Coeficiente de correlación:  0.05043294658141054\n"
          ]
        }
      ]
    },
    {
      "cell_type": "markdown",
      "source": [
        "**Metrica de negocio adicional**"
      ],
      "metadata": {
        "id": "iknoKWrap06q"
      }
    },
    {
      "cell_type": "code",
      "source": [
        "# Calcular la tasa de morosidad por grupo de edad y mes\n",
        "morosidad_por_grupo = combined_data.groupby(['MONTH', 'AGE'])['RETRASO_PAGO_ESTADO'].mean().reset_index()\n",
        "morosidad_por_grupo.rename(columns={'RETRASO_PAGO_ESTADO': 'Tasa_Morosidad'}, inplace=True)\n",
        "\n",
        "# Visualizar los resultados\n",
        "print(morosidad_por_grupo)"
      ],
      "metadata": {
        "colab": {
          "base_uri": "https://localhost:8080/"
        },
        "id": "DaeT6Bg_opK7",
        "outputId": "7e9c7dcb-76f0-4c0c-8d14-3c8173349a03"
      },
      "execution_count": null,
      "outputs": [
        {
          "output_type": "stream",
          "name": "stdout",
          "text": [
            "     MONTH  AGE  Tasa_Morosidad\n",
            "0        4   21       -0.462963\n",
            "1        4   22        0.031603\n",
            "2        4   23        0.033113\n",
            "3        4   24       -0.001116\n",
            "4        4   25       -0.096740\n",
            "..     ...  ...             ...\n",
            "325      9   71        0.000000\n",
            "326      9   72       -0.333333\n",
            "327      9   73       -1.250000\n",
            "328      9   75        0.500000\n",
            "329      9   79        0.000000\n",
            "\n",
            "[330 rows x 3 columns]\n"
          ]
        }
      ]
    },
    {
      "cell_type": "markdown",
      "source": [
        "**Los resultados muestran la tasa de morosidad promedio por grupo de edad y mes.** Cada fila representa una combinación de mes y edad, y la columna \"Tasa_Morosidad\" indica la tasa de morosidad promedio para ese grupo.\n",
        "\n",
        "**Algunas observaciones de los resultados son:**\n",
        "\n",
        "La tasa de morosidad varía en diferentes meses y grupos de edad. Por ejemplo, en **el mes 4, la tasa de morosidad para clientes de 21 años es de -0.462963**, lo que indica que en promedio tienen una baja probabilidad de caer en mora. Sin embargo, **para clientes de 22 años, la tasa de morosidad es de 0.031603,** lo que indica una probabilidad ligeramente mayor de caer en mora.\n",
        "\n",
        "Algunos **grupos de edad pueden tener tasas de morosidad negativas**, **lo que indica una baja probabilidad de caer en mora.** Por ejemplo, en el mes 4, los clientes de 24 años tienen una tasa de morosidad de **-0.001116, lo que sugiere que tienen una probabilidad muy baja de caer en mora.**\n",
        "\n",
        "Algunos grupos de edad pueden tener tasas de morosidad positivas, lo que indica una mayor probabilidad de caer en mora. **Por ejemplo, en el mes 4, los clientes de 25 años tienen una tasa de morosidad de -0.096740, lo que indica una probabilidad relativamente mayor de caer en mora en comparación con otros grupos de edad en ese mes.**"
      ],
      "metadata": {
        "id": "Z7gVl-hHpyW6"
      }
    }
  ]
}